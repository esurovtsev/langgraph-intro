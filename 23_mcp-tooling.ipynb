{
 "cells": [
  {
   "cell_type": "markdown",
   "id": "227c17de",
   "metadata": {},
   "source": [
    "# LangGraph with MCP servers\n",
    "\n",
    "re-create lesson 3 - Generic Agent Architecture\n",
    "see 03_agent.ipynb"
   ]
  },
  {
   "cell_type": "markdown",
   "id": "7954bd05",
   "metadata": {},
   "source": [
    "## \"Classical\" tooling\n",
    "\n",
    "### Defining tools"
   ]
  },
  {
   "cell_type": "code",
   "execution_count": null,
   "id": "cbe87440",
   "metadata": {},
   "outputs": [],
   "source": [
    "def list_commits(repo: str) -> list:\n",
    "    \"\"\"\n",
    "    Get list of commits of a branch in a GitHub repository. Returns at least 30 results per page by default, \n",
    "    but can return more if specified using the perPage parameter (up to 100).\n",
    "\n",
    "    Parameters:\n",
    "        repo (str): name of the github repository\n",
    "\n",
    "    Returns:\n",
    "        list: a list of recent github commits for given repository\n",
    "    \"\"\"\n",
    "    print(f\"calling a list_commits with repo={repo}\")\n",
    "    return [{\n",
    "        \"node_id\": \"C_kwDONpToItoAKDNhNTU5YTkyYTYwZTkyMTFlNmJjMDgzNzQzNjM2NGQ4ZDE2NmJiMjY\",\n",
    "        \"sha\": \"3a559a92a60e9211e6bc0837436364d8d166bb26\",\n",
    "        \"commit\": {\n",
    "        \"author\": {\n",
    "            \"date\": \"2025-06-10T04:51:00Z\",\n",
    "            \"name\": \"Evgeny Surovtsev\",\n",
    "            \"email\": \"2109127+esurovtsev@users.noreply.github.com\"\n",
    "        },\n",
    "        \"committer\": {\n",
    "            \"date\": \"2025-06-10T04:51:00Z\",\n",
    "            \"name\": \"GitHub\",\n",
    "            \"email\": \"noreply@github.com\"\n",
    "        },\n",
    "        \"message\": \"Merge pull request #24 from esurovtsev/feature/devmentor-agent\\n\\nAdd Lesson 22: Developer Mentor AI Agent with long-term memory and up…\",\n",
    "        \"tree\": {\n",
    "            \"sha\": \"2b1290edfd50080d183e1249155c3bfaea79b5e2\"\n",
    "        },\n",
    "        \"url\": \"https://api.github.com/repos/esurovtsev/langgraph-intro/git/commits/3a559a92a60e9211e6bc0837436364d8d166bb26\",\n",
    "        \"verification\": {\n",
    "            \"verified\": True,\n",
    "            \"reason\": \"valid\",\n",
    "            \"signature\": \"-----BEGIN PGP SIGNATURE-----\\n\\nwsFcBAABCAAQBQJoR7m1CRC1aQ7uu5UhlAAAXiIQAGUBHob+zzjfEBfmdsHydw8a\\n/CMZJ1xd8zisH1XB8/lPsxi5iKrPKZsWWo84IubqIWa1IWtPiLdrEqDv4Ev9/AWX\\nm1iI0VNSuvcxB9pAPLp9gaHpaltzI8WEqEy60u1vY6QqUDFZxfnV54T+lDZPO/h1\\naI7JZVlhZigLNg1en5UWOGY0FBl/S+PPhUszeVpRt5duw3W+ofl+hD1BB0IfNBwf\\nYRSWi293SvZzq2whxYNFZ0s58wwjwlje62HHtGCBuvq4HxNHQSbkKlzt7KHiMRCK\\nixtT/YjIYVUb340NcrKACoIdiKR+UrCP6o20/KVB20FNXbvO5cBHJB+61ZEN+3GY\\nFhAfViTHqu2g1OQAENMKTU5l0xqsZ0pTd2c7toEqm5GhrEg/nauVWLi9cz+elY0u\\neDkbsLJH0GsO2oTdeOoA9GqPnti4GrwxL5Vgl22cXpvzIZXgsO2CNe3wigHai+JS\\nAcL7rIJP4azC6TbbicZVQ6tV5HEsojv9xIc+v7DuQ0LgmFPgMEww9cJjcRBD/n7i\\nN9+NSYTXYrcPgQdLM6/DKc8oC8uqWGnjMhsl39dIcrM7z3O4lYu2eVsCV0E/xbpS\\nzTwxjCJUF3wv7sTJolE8OlhoWH1XsJVu7iW6YMHQkkddSDabkjbp3Os3q3L+CN3w\\n7ePvPKfQ55d6HjXu+UMi\\n=L9bR\\n-----END PGP SIGNATURE-----\\n\",\n",
    "            \"payload\": \"tree 2b1290edfd50080d183e1249155c3bfaea79b5e2\\nparent da18dd2547130ab06dae8de7e586e2d5ef713bf1\\nparent c39d02967160b72e3f38d96777a422c1516b470f\\nauthor Evgeny Surovtsev <2109127+esurovtsev@users.noreply.github.com> 1749531060 +0200\\ncommitter GitHub <noreply@github.com> 1749531060 +0200\\n\\nMerge pull request #24 from esurovtsev/feature/devmentor-agent\\n\\nAdd Lesson 22: Developer Mentor AI Agent with long-term memory and up…\"\n",
    "        },\n",
    "        \"comment_count\": 0\n",
    "        },\n",
    "        \"author\": {\n",
    "        \"login\": \"esurovtsev\",\n",
    "        \"id\": 2109127,\n",
    "        \"node_id\": \"MDQ6VXNlcjIxMDkxMjc=\",\n",
    "        \"avatar_url\": \"https://avatars.githubusercontent.com/u/2109127?v=4\",\n",
    "        \"html_url\": \"https://github.com/esurovtsev\",\n",
    "        \"gravatar_id\": \"\",\n",
    "        \"type\": \"User\",\n",
    "        \"site_admin\": False,\n",
    "        \"url\": \"https://api.github.com/users/esurovtsev\",\n",
    "        \"events_url\": \"https://api.github.com/users/esurovtsev/events{/privacy}\",\n",
    "        \"following_url\": \"https://api.github.com/users/esurovtsev/following{/other_user}\",\n",
    "        \"followers_url\": \"https://api.github.com/users/esurovtsev/followers\",\n",
    "        \"gists_url\": \"https://api.github.com/users/esurovtsev/gists{/gist_id}\",\n",
    "        \"organizations_url\": \"https://api.github.com/users/esurovtsev/orgs\",\n",
    "        \"received_events_url\": \"https://api.github.com/users/esurovtsev/received_events\",\n",
    "        \"repos_url\": \"https://api.github.com/users/esurovtsev/repos\",\n",
    "        \"starred_url\": \"https://api.github.com/users/esurovtsev/starred{/owner}{/repo}\",\n",
    "        \"subscriptions_url\": \"https://api.github.com/users/esurovtsev/subscriptions\"\n",
    "        },\n",
    "        \"committer\": {\n",
    "        \"login\": \"web-flow\",\n",
    "        \"id\": 19864447,\n",
    "        \"node_id\": \"MDQ6VXNlcjE5ODY0NDQ3\",\n",
    "        \"avatar_url\": \"https://avatars.githubusercontent.com/u/19864447?v=4\",\n",
    "        \"html_url\": \"https://github.com/web-flow\",\n",
    "        \"gravatar_id\": \"\",\n",
    "        \"type\": \"User\",\n",
    "        \"site_admin\": False,\n",
    "        \"url\": \"https://api.github.com/users/web-flow\",\n",
    "        \"events_url\": \"https://api.github.com/users/web-flow/events{/privacy}\",\n",
    "        \"following_url\": \"https://api.github.com/users/web-flow/following{/other_user}\",\n",
    "        \"followers_url\": \"https://api.github.com/users/web-flow/followers\",\n",
    "        \"gists_url\": \"https://api.github.com/users/web-flow/gists{/gist_id}\",\n",
    "        \"organizations_url\": \"https://api.github.com/users/web-flow/orgs\",\n",
    "        \"received_events_url\": \"https://api.github.com/users/web-flow/received_events\",\n",
    "        \"repos_url\": \"https://api.github.com/users/web-flow/repos\",\n",
    "        \"starred_url\": \"https://api.github.com/users/web-flow/starred{/owner}{/repo}\",\n",
    "        \"subscriptions_url\": \"https://api.github.com/users/web-flow/subscriptions\"\n",
    "        },\n",
    "        \"parents\": [\n",
    "        {\n",
    "            \"sha\": \"da18dd2547130ab06dae8de7e586e2d5ef713bf1\",\n",
    "            \"html_url\": \"https://github.com/esurovtsev/langgraph-intro/commit/da18dd2547130ab06dae8de7e586e2d5ef713bf1\",\n",
    "            \"url\": \"https://api.github.com/repos/esurovtsev/langgraph-intro/commits/da18dd2547130ab06dae8de7e586e2d5ef713bf1\"\n",
    "        },\n",
    "        {\n",
    "            \"sha\": \"c39d02967160b72e3f38d96777a422c1516b470f\",\n",
    "            \"html_url\": \"https://github.com/esurovtsev/langgraph-intro/commit/c39d02967160b72e3f38d96777a422c1516b470f\",\n",
    "            \"url\": \"https://api.github.com/repos/esurovtsev/langgraph-intro/commits/c39d02967160b72e3f38d96777a422c1516b470f\"\n",
    "        }\n",
    "        ],\n",
    "        \"html_url\": \"https://github.com/esurovtsev/langgraph-intro/commit/3a559a92a60e9211e6bc0837436364d8d166bb26\",\n",
    "        \"url\": \"https://api.github.com/repos/esurovtsev/langgraph-intro/commits/3a559a92a60e9211e6bc0837436364d8d166bb26\",\n",
    "        \"comments_url\": \"https://api.github.com/repos/esurovtsev/langgraph-intro/commits/3a559a92a60e9211e6bc0837436364d8d166bb26/comments\"\n",
    "    }]\n"
   ]
  },
  {
   "cell_type": "markdown",
   "id": "872d17ab",
   "metadata": {},
   "source": [
    "### Binding tools to the LLM"
   ]
  },
  {
   "cell_type": "code",
   "execution_count": null,
   "id": "a1b1beb3",
   "metadata": {},
   "outputs": [],
   "source": [
    "from langchain_core.tools import Tool\n",
    "from langchain_openai import ChatOpenAI\n",
    "\n",
    "# Create tool bindings with additional attributes\n",
    "commits = Tool.from_function(\n",
    "    func=list_commits,\n",
    "    name=\"list_commits\",\n",
    "    description=\"Get list of commits of a branch in a GitHub repository.\",\n",
    "    return_direct=False  # Return result to be processed by LLM\n",
    ")\n",
    "\n",
    "toolbox = [commits]\n",
    "\n",
    "# OPENAI_API_KEY environment variable must be set\n",
    "simple_llm = ChatOpenAI(model=\"gpt-4o-mini\")\n",
    "llm_with_tools = simple_llm.bind_tools(toolbox)"
   ]
  },
  {
   "cell_type": "markdown",
   "id": "cad3c70e",
   "metadata": {},
   "source": [
    "### Defining Agent's node"
   ]
  },
  {
   "cell_type": "code",
   "execution_count": null,
   "id": "a50165df",
   "metadata": {},
   "outputs": [],
   "source": [
    "from langchain_core.messages import HumanMessage, SystemMessage\n",
    "from langgraph.graph import MessagesState\n",
    "\n",
    "# System message\n",
    "assistant_system_message = SystemMessage(content=(\"\"\"\n",
    "You are a developer assistant designed to help users with a wide range of software development tasks.\n",
    "\n",
    "You have access to a flexible set of tools that can automate routine work, retrieve information, and \n",
    "interact with external systems such as code repositories, documentation, and more.\n",
    "\n",
    "Your responsibilities:\n",
    "- **Assist with developer workflows** by answering questions, providing insights, and automating tasks.\n",
    "- **Leverage the available tools** to gather accurate, up-to-date information or perform actions on the user's behalf.\n",
    "- **Keep responses concise and practical**, focusing on actionable advice or clear explanations.\n",
    "\n",
    "Always use the provided tools when they can help you deliver more precise or efficient results. \n",
    "Your goal is to be a reliable, knowledgeable, and efficient buddy for developers.\n",
    "\"\"\"))\n",
    "\n",
    "# Node\n",
    "def assistant(state: MessagesState):\n",
    "   return {\"messages\": [llm_with_tools.invoke([assistant_system_message] + state[\"messages\"])]}"
   ]
  },
  {
   "cell_type": "markdown",
   "id": "b6a76b95",
   "metadata": {},
   "source": [
    "### Defining Graph"
   ]
  },
  {
   "cell_type": "code",
   "execution_count": null,
   "id": "f7866e15",
   "metadata": {},
   "outputs": [],
   "source": [
    "from langgraph.graph import START, StateGraph, END\n",
    "from langgraph.prebuilt import tools_condition\n",
    "from langgraph.prebuilt import ToolNode\n",
    "from IPython.display import Image, display\n",
    "\n",
    "# Graph\n",
    "builder = StateGraph(MessagesState)\n",
    "\n",
    "# Define nodes: these do the work\n",
    "builder.add_node(\"assistant\", assistant)\n",
    "builder.add_node(\"tools\", ToolNode(toolbox))\n",
    "\n",
    "# Define edges: these determine how the control flow moves\n",
    "builder.add_edge(START, \"assistant\")\n",
    "builder.add_conditional_edges(\n",
    "    \"assistant\",\n",
    "    # If the latest message (result) from assistant is a tool call -> tools_condition routes to tools\n",
    "    # If the latest message (result) from assistant is a not a tool call -> tools_condition routes to END\n",
    "    tools_condition,\n",
    ")\n",
    "builder.add_edge(\"tools\", \"assistant\")\n",
    "# builder.add_edge(\"assistant\", END)\n",
    "react_graph = builder.compile()\n",
    "\n",
    "# Show\n",
    "display(Image(react_graph.get_graph(xray=True).draw_mermaid_png()))"
   ]
  },
  {
   "cell_type": "markdown",
   "id": "6e81d570",
   "metadata": {},
   "source": [
    "### Testing"
   ]
  },
  {
   "cell_type": "code",
   "execution_count": null,
   "id": "48982f95",
   "metadata": {},
   "outputs": [],
   "source": [
    "prompt = \"List the latest commits for the repository esurovtsev/langgraph-intro on GitHub.\"\n",
    "messages = react_graph.invoke({\"messages\": [HumanMessage(content=prompt)]})\n",
    "for message in messages['messages']:\n",
    "    message.pretty_print()"
   ]
  },
  {
   "cell_type": "markdown",
   "id": "50d1d1d4",
   "metadata": {},
   "source": [
    "## Introducing MCP tools\n",
    "\n",
    "### Load configuration"
   ]
  },
  {
   "cell_type": "code",
   "execution_count": null,
   "id": "ddc79cb6",
   "metadata": {},
   "outputs": [],
   "source": [
    "import json\n",
    "import os\n",
    "\n",
    "def load_mcp_servers(config_path):\n",
    "    \"\"\"\n",
    "    Load MCP server definitions from a JSON config file.\n",
    "    Expects a top-level 'mcpServers' dict in the config.\n",
    "    \"\"\"\n",
    "    if not os.path.exists(config_path):\n",
    "        raise FileNotFoundError(f\"Config file not found: {config_path}\")\n",
    "    with open(config_path, \"r\") as f:\n",
    "        config = json.load(f)\n",
    "    servers = config.get(\"mcpServers\", {})\n",
    "    # Optionally add default transports if missing\n",
    "    for name, server in servers.items():\n",
    "        if \"command\" in server and \"transport\" not in server:\n",
    "            server[\"transport\"] = \"stdio\"\n",
    "        if \"url\" in server and \"transport\" not in server:\n",
    "            server[\"transport\"] = \"streamable_http\"\n",
    "    return servers\n",
    "\n",
    "mcp_servers = load_mcp_servers(\"./mcp_config.json\")\n",
    "mcp_servers"
   ]
  },
  {
   "cell_type": "markdown",
   "id": "8d475128",
   "metadata": {},
   "source": [
    "### Define tools"
   ]
  },
  {
   "cell_type": "code",
   "execution_count": null,
   "id": "0710bfa5",
   "metadata": {},
   "outputs": [],
   "source": [
    "from langchain_mcp_adapters.client import MultiServerMCPClient\n",
    "\n",
    "client = MultiServerMCPClient(mcp_servers)\n",
    "mcp_tools = await client.get_tools()\n",
    "\n",
    "mcp_tools"
   ]
  },
  {
   "cell_type": "markdown",
   "id": "f4ecd486",
   "metadata": {},
   "source": [
    "### Binding tools to the LLM"
   ]
  },
  {
   "cell_type": "code",
   "execution_count": null,
   "id": "14b4e6d8",
   "metadata": {},
   "outputs": [],
   "source": [
    "from langchain_core.tools import Tool\n",
    "from langchain_openai import ChatOpenAI\n",
    "\n",
    "# OPENAI_API_KEY environment variable must be set\n",
    "simple_llm = ChatOpenAI(model=\"gpt-4o-mini\")\n",
    "llm_with_tools = simple_llm.bind_tools(mcp_tools)"
   ]
  },
  {
   "cell_type": "markdown",
   "id": "ea82c282",
   "metadata": {},
   "source": [
    "### Defining Agent's node"
   ]
  },
  {
   "cell_type": "code",
   "execution_count": null,
   "id": "d5ee4023",
   "metadata": {},
   "outputs": [],
   "source": [
    "from langchain_core.messages import HumanMessage, SystemMessage\n",
    "from langgraph.graph import MessagesState\n",
    "\n",
    "# System message\n",
    "assistant_system_message = SystemMessage(content=(\"\"\"\n",
    "You are a developer assistant designed to help users with a wide range of software development tasks.\n",
    "\n",
    "You have access to a flexible set of tools that can automate routine work, retrieve information, and \n",
    "interact with external systems such as code repositories, documentation, and more.\n",
    "\n",
    "Your responsibilities:\n",
    "- **Assist with developer workflows** by answering questions, providing insights, and automating tasks.\n",
    "- **Leverage the available tools** to gather accurate, up-to-date information or perform actions on the user's behalf.\n",
    "- **Keep responses concise and practical**, focusing on actionable advice or clear explanations.\n",
    "\n",
    "Always use the provided tools when they can help you deliver more precise or efficient results. \n",
    "Your goal is to be a reliable, knowledgeable, and efficient buddy for developers.\n",
    "\"\"\"))\n",
    "\n",
    "# Node\n",
    "def assistant(state: MessagesState):\n",
    "   return {\"messages\": [llm_with_tools.invoke([assistant_system_message] + state[\"messages\"])]}"
   ]
  },
  {
   "cell_type": "markdown",
   "id": "2148d8d6",
   "metadata": {},
   "source": [
    "### Defining Graph"
   ]
  },
  {
   "cell_type": "code",
   "execution_count": null,
   "id": "d5aea5c0",
   "metadata": {},
   "outputs": [],
   "source": [
    "from langgraph.graph import START, StateGraph, END\n",
    "from langgraph.prebuilt import tools_condition\n",
    "from langgraph.prebuilt import ToolNode\n",
    "from IPython.display import Image, display\n",
    "\n",
    "# Graph\n",
    "builder = StateGraph(MessagesState)\n",
    "\n",
    "# Define nodes: these do the work\n",
    "builder.add_node(\"assistant\", assistant)\n",
    "builder.add_node(\"tools\", ToolNode(mcp_tools))\n",
    "\n",
    "# Define edges: these determine how the control flow moves\n",
    "builder.add_edge(START, \"assistant\")\n",
    "builder.add_conditional_edges(\n",
    "    \"assistant\",\n",
    "    # If the latest message (result) from assistant is a tool call -> tools_condition routes to tools\n",
    "    # If the latest message (result) from assistant is a not a tool call -> tools_condition routes to END\n",
    "    tools_condition,\n",
    ")\n",
    "builder.add_edge(\"tools\", \"assistant\")\n",
    "# builder.add_edge(\"assistant\", END)\n",
    "react_graph = builder.compile()\n",
    "\n",
    "# Show\n",
    "display(Image(react_graph.get_graph(xray=True).draw_mermaid_png()))"
   ]
  },
  {
   "cell_type": "markdown",
   "id": "911ff7f4",
   "metadata": {},
   "source": [
    "### Testing"
   ]
  },
  {
   "cell_type": "code",
   "execution_count": null,
   "id": "c7b7a005",
   "metadata": {},
   "outputs": [],
   "source": [
    "prompt = \"List the latest commits for the repository esurovtsev/langgraph-intro on GitHub.\"\n",
    "messages = await react_graph.ainvoke({\"messages\": [HumanMessage(content=prompt)]})\n",
    "for message in messages['messages']:\n",
    "    message.pretty_print()"
   ]
  }
 ],
 "metadata": {
  "kernelspec": {
   "display_name": "venv",
   "language": "python",
   "name": "python3"
  },
  "language_info": {
   "codemirror_mode": {
    "name": "ipython",
    "version": 3
   },
   "file_extension": ".py",
   "mimetype": "text/x-python",
   "name": "python",
   "nbconvert_exporter": "python",
   "pygments_lexer": "ipython3",
   "version": "3.13.3"
  }
 },
 "nbformat": 4,
 "nbformat_minor": 5
}
