{
 "cells": [
  {
   "cell_type": "markdown",
   "metadata": {},
   "source": [
    "# Streaming"
   ]
  },
  {
   "cell_type": "markdown",
   "metadata": {},
   "source": [
    "## Using LangGraph API\n",
    "\n",
    "Tell about server part of LangGraph Studio and prefered approach to build graphs"
   ]
  },
  {
   "cell_type": "code",
   "execution_count": 58,
   "metadata": {},
   "outputs": [
    {
     "data": {
      "text/plain": [
       "[{'assistant_id': 'b7480eb0-6390-53a5-9bc4-29bf27cbd1c4',\n",
       "  'graph_id': 'financial_advisor',\n",
       "  'created_at': '2025-02-07T10:30:03.580904+00:00',\n",
       "  'updated_at': '2025-02-07T10:30:03.580904+00:00',\n",
       "  'config': {},\n",
       "  'metadata': {'created_by': 'system'},\n",
       "  'version': 1,\n",
       "  'name': 'financial_advisor'},\n",
       " {'assistant_id': '8a4ac7a4-50eb-5206-98cc-4a72345cb1f7',\n",
       "  'graph_id': 'chatbot',\n",
       "  'created_at': '2025-02-01T11:56:26.459428+00:00',\n",
       "  'updated_at': '2025-02-01T11:56:26.459428+00:00',\n",
       "  'config': {},\n",
       "  'metadata': {'created_by': 'system'},\n",
       "  'version': 1,\n",
       "  'name': 'chatbot'}]"
      ]
     },
     "execution_count": 58,
     "metadata": {},
     "output_type": "execute_result"
    }
   ],
   "source": [
    "from langgraph_sdk import get_client\n",
    "\n",
    "URL = \"http://localhost:61693\"\n",
    "client = get_client(url=URL)\n",
    "\n",
    "# Search all hosted graphs\n",
    "assistants = await client.assistants.search()\n",
    "assistants"
   ]
  },
  {
   "cell_type": "code",
   "execution_count": 59,
   "metadata": {},
   "outputs": [
    {
     "data": {
      "text/plain": [
       "'b7480eb0-6390-53a5-9bc4-29bf27cbd1c4'"
      ]
     },
     "execution_count": 59,
     "metadata": {},
     "output_type": "execute_result"
    }
   ],
   "source": [
    "assistants[0][\"assistant_id\"]"
   ]
  },
  {
   "cell_type": "code",
   "execution_count": 60,
   "metadata": {},
   "outputs": [
    {
     "data": {
      "text/plain": [
       "{'messages': [{'content': 'Hi, I’m working on a Python project, and I’m stuck with handling API responses.',\n",
       "   'additional_kwargs': {},\n",
       "   'response_metadata': {},\n",
       "   'type': 'human',\n",
       "   'name': None,\n",
       "   'id': 'd4993bf8-e2fa-4cae-b949-f5215351ebc0',\n",
       "   'example': False},\n",
       "  {'content': \"Sure, I can help with that! Could you provide more details about the API you're working with? Specifically, what kind of responses are you receiving, and what issues are you facing while handling them?\",\n",
       "   'additional_kwargs': {'refusal': None},\n",
       "   'response_metadata': {'token_usage': {'completion_tokens': 41,\n",
       "     'prompt_tokens': 92,\n",
       "     'total_tokens': 133,\n",
       "     'completion_tokens_details': {'accepted_prediction_tokens': 0,\n",
       "      'audio_tokens': 0,\n",
       "      'reasoning_tokens': 0,\n",
       "      'rejected_prediction_tokens': 0},\n",
       "     'prompt_tokens_details': {'audio_tokens': 0, 'cached_tokens': 0}},\n",
       "    'model_name': 'gpt-4o-mini-2024-07-18',\n",
       "    'system_fingerprint': 'fp_72ed7ab54c',\n",
       "    'finish_reason': 'stop',\n",
       "    'logprobs': None},\n",
       "   'type': 'ai',\n",
       "   'name': None,\n",
       "   'id': 'run-a90e4cf4-2fb7-41e2-915c-583f22352207-0',\n",
       "   'example': False,\n",
       "   'tool_calls': [],\n",
       "   'invalid_tool_calls': [],\n",
       "   'usage_metadata': {'input_tokens': 92,\n",
       "    'output_tokens': 41,\n",
       "    'total_tokens': 133,\n",
       "    'input_token_details': {'audio': 0, 'cache_read': 0},\n",
       "    'output_token_details': {'audio': 0, 'reasoning': 0}}}],\n",
       " 'question': 'Hi, I’m working on a Python project, and I’m stuck with handling API responses.',\n",
       " 'answer': \"Sure, I can help with that! Could you provide more details about the API you're working with? Specifically, what kind of responses are you receiving, and what issues are you facing while handling them?\",\n",
       " 'summary': None}"
      ]
     },
     "execution_count": 60,
     "metadata": {},
     "output_type": "execute_result"
    }
   ],
   "source": [
    "from langchain_core.messages import HumanMessage\n",
    "\n",
    "# Create a new thread\n",
    "thread = await client.threads.create()\n",
    "\n",
    "final_state = await client.runs.wait(\n",
    "    thread_id=thread[\"thread_id\"],\n",
    "    assistant_id=\"8a4ac7a4-50eb-5206-98cc-4a72345cb1f7\",\n",
    "    input={\"question\": \"Hi, I’m working on a Python project, and I’m stuck with handling API responses.\"}\n",
    ")\n",
    "\n",
    "final_state"
   ]
  },
  {
   "cell_type": "code",
   "execution_count": 61,
   "metadata": {},
   "outputs": [
    {
     "data": {
      "text/plain": [
       "'You mentioned that you are working on a Python project and are stuck with handling API responses. If you need further assistance or have specific questions about this topic, feel free to share!'"
      ]
     },
     "execution_count": 61,
     "metadata": {},
     "output_type": "execute_result"
    }
   ],
   "source": [
    "final_state = await client.runs.wait(\n",
    "    thread_id=thread[\"thread_id\"],\n",
    "    assistant_id=\"8a4ac7a4-50eb-5206-98cc-4a72345cb1f7\",\n",
    "    input={\"question\": \"Sorry what was my previous question?\"}\n",
    ")\n",
    "\n",
    "final_state[\"answer\"]"
   ]
  },
  {
   "cell_type": "code",
   "execution_count": 62,
   "metadata": {},
   "outputs": [
    {
     "data": {
      "text/plain": [
       "{'messages': [{'content': 'Ahh, yeah right! So I’m mostly struggling with parsing JSON responses. Sometimes the structure isn’t what I expect, and it breaks my code.',\n",
       "   'additional_kwargs': {},\n",
       "   'response_metadata': {},\n",
       "   'type': 'human',\n",
       "   'name': None,\n",
       "   'id': '89f67be7-d212-4145-b85f-39a51f25e31b',\n",
       "   'example': False},\n",
       "  {'content': 'Parsing JSON responses can be tricky, especially if the structure varies. To handle this more robustly, consider the following tips:\\n\\n1. **Use `try` and `except` Blocks:** Wrap your JSON parsing code in `try` and `except` blocks to catch any exceptions if the structure doesn\\'t match your expectations.\\n\\n   ```python\\n   import json\\n\\n   response = \\'{\"name\": \"John\", \"age\": 30}\\'  # Example response\\n   try:\\n       data = json.loads(response)\\n       print(data[\\'name\\'])  # Access expected keys\\n   except KeyError as e:\\n       print(f\"Key error: {e}\")\\n   except json.JSONDecodeError:\\n       print(\"Failed to decode JSON.\")\\n   ```\\n\\n2. **Validate the JSON Structure:** Before accessing specific keys, check if they exist.\\n\\n   ```python\\n   if \\'name\\' in data:\\n       print(data[\\'name\\'])\\n   else:\\n       print(\"Expected key \\'name\\' not found.\")\\n   ```\\n\\n3. **Use `get()` Method:** This method allows you to attempt to retrieve a value, providing a default if the key doesn’t exist.\\n\\n   ```python\\n   name = data.get(\\'name\\', \\'Default Name\\')  # Will return \\'Default Name\\' if \\'name\\' key is not found\\n   ```\\n\\n4. **Log Unexpected Structures:** If the API response structure often changes, consider logging the entire response when it doesn\\'t match your expected structure to help you adjust your code.\\n\\nIf you have a specific JSON response example that’s causing issues, feel free to share it for more tailored assistance!',\n",
       "   'additional_kwargs': {'refusal': None},\n",
       "   'response_metadata': {'token_usage': {'completion_tokens': 326,\n",
       "     'prompt_tokens': 214,\n",
       "     'total_tokens': 540,\n",
       "     'completion_tokens_details': {'accepted_prediction_tokens': 0,\n",
       "      'audio_tokens': 0,\n",
       "      'reasoning_tokens': 0,\n",
       "      'rejected_prediction_tokens': 0},\n",
       "     'prompt_tokens_details': {'audio_tokens': 0, 'cached_tokens': 0}},\n",
       "    'model_name': 'gpt-4o-mini-2024-07-18',\n",
       "    'system_fingerprint': 'fp_72ed7ab54c',\n",
       "    'finish_reason': 'stop',\n",
       "    'logprobs': None},\n",
       "   'type': 'ai',\n",
       "   'name': None,\n",
       "   'id': 'run-2c06c96f-5e4a-4fc6-951f-557a31938dad-0',\n",
       "   'example': False,\n",
       "   'tool_calls': [],\n",
       "   'invalid_tool_calls': [],\n",
       "   'usage_metadata': {'input_tokens': 214,\n",
       "    'output_tokens': 326,\n",
       "    'total_tokens': 540,\n",
       "    'input_token_details': {'audio': 0, 'cache_read': 0},\n",
       "    'output_token_details': {'audio': 0, 'reasoning': 0}}}],\n",
       " 'question': 'Ahh, yeah right! So I’m mostly struggling with parsing JSON responses. Sometimes the structure isn’t what I expect, and it breaks my code.',\n",
       " 'answer': 'Parsing JSON responses can be tricky, especially if the structure varies. To handle this more robustly, consider the following tips:\\n\\n1. **Use `try` and `except` Blocks:** Wrap your JSON parsing code in `try` and `except` blocks to catch any exceptions if the structure doesn\\'t match your expectations.\\n\\n   ```python\\n   import json\\n\\n   response = \\'{\"name\": \"John\", \"age\": 30}\\'  # Example response\\n   try:\\n       data = json.loads(response)\\n       print(data[\\'name\\'])  # Access expected keys\\n   except KeyError as e:\\n       print(f\"Key error: {e}\")\\n   except json.JSONDecodeError:\\n       print(\"Failed to decode JSON.\")\\n   ```\\n\\n2. **Validate the JSON Structure:** Before accessing specific keys, check if they exist.\\n\\n   ```python\\n   if \\'name\\' in data:\\n       print(data[\\'name\\'])\\n   else:\\n       print(\"Expected key \\'name\\' not found.\")\\n   ```\\n\\n3. **Use `get()` Method:** This method allows you to attempt to retrieve a value, providing a default if the key doesn’t exist.\\n\\n   ```python\\n   name = data.get(\\'name\\', \\'Default Name\\')  # Will return \\'Default Name\\' if \\'name\\' key is not found\\n   ```\\n\\n4. **Log Unexpected Structures:** If the API response structure often changes, consider logging the entire response when it doesn\\'t match your expected structure to help you adjust your code.\\n\\nIf you have a specific JSON response example that’s causing issues, feel free to share it for more tailored assistance!',\n",
       " 'summary': 'The user is working on a Python project and is struggling with parsing JSON responses from APIs, noting that unexpected structures often break their code. They requested help with specific issues related to this, particularly how to handle varying JSON structures effectively. The conversation included strategies such as using `try` and `except` blocks for error handling, checking for key existence, utilizing the `get()` method for safer access, and logging unexpected structures for future reference. They also asked for clarification on their previous question.'}"
      ]
     },
     "execution_count": 62,
     "metadata": {},
     "output_type": "execute_result"
    }
   ],
   "source": [
    "final_state = await client.runs.wait(\n",
    "    thread_id=thread[\"thread_id\"],\n",
    "    assistant_id=\"8a4ac7a4-50eb-5206-98cc-4a72345cb1f7\",\n",
    "    input={\"question\": \"Ahh, yeah right! So I’m mostly struggling with parsing JSON responses. Sometimes the structure isn’t what I expect, and it breaks my code.\"}\n",
    ")\n",
    "\n",
    "final_state"
   ]
  },
  {
   "cell_type": "markdown",
   "metadata": {},
   "source": [
    "## Streaming\n",
    "\n",
    "Observe the difference between constructing graph manually & using LangGraph Studio"
   ]
  },
  {
   "cell_type": "markdown",
   "metadata": {},
   "source": [
    "### Define chatbot graph"
   ]
  },
  {
   "cell_type": "code",
   "execution_count": 63,
   "metadata": {},
   "outputs": [
    {
     "data": {
      "image/png": "[encoded data removed]",
      "text/plain": [
       "<IPython.core.display.Image object>"
      ]
     },
     "metadata": {},
     "output_type": "display_data"
    }
   ],
   "source": [
    "from langchain_openai import ChatOpenAI\n",
    "from IPython.display import Image, display\n",
    "from langgraph.checkpoint.memory import MemorySaver\n",
    "from langgraph.graph import MessagesState, StateGraph, START, END\n",
    "from langchain_core.messages import HumanMessage, SystemMessage, RemoveMessage\n",
    "\n",
    "\n",
    "# OPENAI_API_KEY environment variable must be set\n",
    "llm = ChatOpenAI(model=\"gpt-4o-mini\")\n",
    "\n",
    "# System message\n",
    "chatbot_system_message = SystemMessage(content=(\"\"\"\n",
    "You are a helpful and knowledgeable chatbot assistant. \n",
    "Your goal is to provide clear and accurate answers to user questions based on the information they provide. \n",
    "Stay focused, concise, and ensure your responses are relevant to the context of the conversation. \n",
    "If you don’t have enough information, ask for clarification.”\n",
    "\"\"\"))\n",
    "\n",
    "\n",
    "# Nodes\n",
    "def chatbot(state: MessagesState) -> MessagesState:\n",
    "    response = llm.invoke([chatbot_system_message] + state[\"messages\"]);\n",
    "    return MessagesState(messages = [response])\n",
    "\n",
    "\n",
    "# Graph\n",
    "workflow = StateGraph(MessagesState)\n",
    "workflow.add_node(chatbot)\n",
    "\n",
    "workflow.add_edge(START, \"chatbot\")\n",
    "workflow.add_edge(\"chatbot\", END)\n",
    "\n",
    "\n",
    "memory = MemorySaver()\n",
    "graph = workflow.compile(checkpointer=memory)\n",
    "display(Image(graph.get_graph().draw_mermaid_png()))"
   ]
  },
  {
   "cell_type": "markdown",
   "metadata": {},
   "source": [
    "Streaming modes:\n",
    "\n",
    "- updates (exposes only new data)\n",
    "- values (always shows the whole state)\n",
    "- messages\n",
    "- debug\n",
    "- custom"
   ]
  },
  {
   "cell_type": "markdown",
   "metadata": {},
   "source": [
    "### Stream_mode=updates"
   ]
  },
  {
   "cell_type": "code",
   "execution_count": 64,
   "metadata": {},
   "outputs": [
    {
     "name": "stdout",
     "output_type": "stream",
     "text": [
      "{'chatbot': {'messages': [AIMessage(content='I can help with that! What specific issues are you encountering with handling API responses in your Python project? Are you having trouble parsing the response, dealing with errors, or something else?', additional_kwargs={'refusal': None}, response_metadata={'token_usage': {'completion_tokens': 38, 'prompt_tokens': 92, 'total_tokens': 130, 'completion_tokens_details': {'accepted_prediction_tokens': 0, 'audio_tokens': 0, 'reasoning_tokens': 0, 'rejected_prediction_tokens': 0}, 'prompt_tokens_details': {'audio_tokens': 0, 'cached_tokens': 0}}, 'model_name': 'gpt-4o-mini-2024-07-18', 'system_fingerprint': 'fp_72ed7ab54c', 'finish_reason': 'stop', 'logprobs': None}, id='run-78db9f95-83f8-41f1-b779-d667497c1b52-0', usage_metadata={'input_tokens': 92, 'output_tokens': 38, 'total_tokens': 130, 'input_token_details': {'audio': 0, 'cache_read': 0}, 'output_token_details': {'audio': 0, 'reasoning': 0}})]}}\n"
     ]
    }
   ],
   "source": [
    "# Create a thread\n",
    "config = {\"configurable\": {\"thread_id\": \"1\"}}\n",
    "\n",
    "user_input = HumanMessage(content=\"Hi, I’m working on a Python project, and I’m stuck with handling API responses.\")\n",
    "for event in graph.stream({\"messages\": [user_input]}, config, stream_mode=\"updates\"):\n",
    "    print(event)"
   ]
  },
  {
   "cell_type": "code",
   "execution_count": 65,
   "metadata": {},
   "outputs": [
    {
     "name": "stdout",
     "output_type": "stream",
     "text": [
      "==================================\u001b[1m Ai Message \u001b[0m==================================\n",
      "\n",
      "You mentioned that you are working on a Python project and that you’re stuck with handling API responses. How can I assist you further with that?\n"
     ]
    }
   ],
   "source": [
    "user_input = HumanMessage(content=\"Sorry what was my previous question?\")\n",
    "for event in graph.stream({\"messages\": [user_input]}, config, stream_mode=\"updates\"):\n",
    "    for m in event['chatbot']['messages']:\n",
    "        m.pretty_print()"
   ]
  },
  {
   "cell_type": "markdown",
   "metadata": {},
   "source": [
    "### Stream_mode=values"
   ]
  },
  {
   "cell_type": "code",
   "execution_count": 66,
   "metadata": {},
   "outputs": [
    {
     "name": "stdout",
     "output_type": "stream",
     "text": [
      "{'messages': [HumanMessage(content='Hi, I’m working on a Python project, and I’m stuck with handling API responses.', additional_kwargs={}, response_metadata={}, id='0b8d3a53-21b9-4b06-928f-a594512a5bdf')]}\n",
      "{'messages': [HumanMessage(content='Hi, I’m working on a Python project, and I’m stuck with handling API responses.', additional_kwargs={}, response_metadata={}, id='0b8d3a53-21b9-4b06-928f-a594512a5bdf'), AIMessage(content='I can help with that! Can you provide more details about the API you’re working with, the issues you’re facing, and what you’ve tried so far?', additional_kwargs={'refusal': None}, response_metadata={'token_usage': {'completion_tokens': 34, 'prompt_tokens': 92, 'total_tokens': 126, 'completion_tokens_details': {'accepted_prediction_tokens': 0, 'audio_tokens': 0, 'reasoning_tokens': 0, 'rejected_prediction_tokens': 0}, 'prompt_tokens_details': {'audio_tokens': 0, 'cached_tokens': 0}}, 'model_name': 'gpt-4o-mini-2024-07-18', 'system_fingerprint': 'fp_72ed7ab54c', 'finish_reason': 'stop', 'logprobs': None}, id='run-40992345-b3c1-47dd-ac36-5ced5157e99e-0', usage_metadata={'input_tokens': 92, 'output_tokens': 34, 'total_tokens': 126, 'input_token_details': {'audio': 0, 'cache_read': 0}, 'output_token_details': {'audio': 0, 'reasoning': 0}})]}\n"
     ]
    }
   ],
   "source": [
    "config = {\"configurable\": {\"thread_id\": \"2\"}}\n",
    "\n",
    "user_input = HumanMessage(content=\"Hi, I’m working on a Python project, and I’m stuck with handling API responses.\")\n",
    "for event in graph.stream({\"messages\": [user_input]}, config, stream_mode=\"values\"):\n",
    "    print(event)"
   ]
  },
  {
   "cell_type": "code",
   "execution_count": 67,
   "metadata": {},
   "outputs": [
    {
     "name": "stdout",
     "output_type": "stream",
     "text": [
      "================================\u001b[1m Human Message \u001b[0m=================================\n",
      "\n",
      "Hi, I’m working on a Python project, and I’m stuck with handling API responses.\n",
      "==================================\u001b[1m Ai Message \u001b[0m==================================\n",
      "\n",
      "I can help with that! Can you provide more details about the API you’re working with, the issues you’re facing, and what you’ve tried so far?\n",
      "================================\u001b[1m Human Message \u001b[0m=================================\n",
      "\n",
      "Hi, I’m working on a Python project, and I’m stuck with handling API responses.\n",
      "\n",
      "\n",
      "####################################################################################################\n",
      "\n",
      "\n",
      "================================\u001b[1m Human Message \u001b[0m=================================\n",
      "\n",
      "Hi, I’m working on a Python project, and I’m stuck with handling API responses.\n",
      "==================================\u001b[1m Ai Message \u001b[0m==================================\n",
      "\n",
      "I can help with that! Can you provide more details about the API you’re working with, the issues you’re facing, and what you’ve tried so far?\n",
      "================================\u001b[1m Human Message \u001b[0m=================================\n",
      "\n",
      "Hi, I’m working on a Python project, and I’m stuck with handling API responses.\n",
      "==================================\u001b[1m Ai Message \u001b[0m==================================\n",
      "\n",
      "Sure! To help you effectively, could you tell me:\n",
      "\n",
      "1. Which API you are using?\n",
      "2. What specific issues are you encountering with the responses (e.g., parsing JSON, handling errors, etc.)?\n",
      "3. Any relevant code snippets you've tried?\n",
      "\n",
      "This information will help me assist you better!\n",
      "\n",
      "\n",
      "####################################################################################################\n",
      "\n",
      "\n"
     ]
    }
   ],
   "source": [
    "config = {\"configurable\": {\"thread_id\": \"2\"}}\n",
    "\n",
    "user_input = HumanMessage(content=\"Hi, I’m working on a Python project, and I’m stuck with handling API responses.\")\n",
    "for event in graph.stream({\"messages\": [user_input]}, config, stream_mode=\"values\"):\n",
    "    for m in event['messages']:\n",
    "        m.pretty_print()\n",
    "    print(\"\\n\")\n",
    "    print(\"#\"*100)\n",
    "    print(\"\\n\")"
   ]
  },
  {
   "cell_type": "markdown",
   "metadata": {},
   "source": [
    "### Streaming deeper (updates inside Node) - a.k.a. \"streaming LLM tokens from a specific node\""
   ]
  },
  {
   "cell_type": "code",
   "execution_count": 68,
   "metadata": {},
   "outputs": [
    {
     "name": "stdout",
     "output_type": "stream",
     "text": [
      "(AIMessageChunk(content='', additional_kwargs={}, response_metadata={}, id='run-6b71448d-8da0-4513-9301-bcbf55255997'), {'thread_id': '4', 'langgraph_step': 1, 'langgraph_node': 'chatbot', 'langgraph_triggers': ['start:chatbot'], 'langgraph_path': ('__pregel_pull', 'chatbot'), 'langgraph_checkpoint_ns': 'chatbot:ecabe036-7295-522c-495c-54790fc26824', 'checkpoint_ns': 'chatbot:ecabe036-7295-522c-495c-54790fc26824', 'ls_provider': 'openai', 'ls_model_name': 'gpt-4o-mini', 'ls_model_type': 'chat', 'ls_temperature': None})\n",
      "(AIMessageChunk(content='I', additional_kwargs={}, response_metadata={}, id='run-6b71448d-8da0-4513-9301-bcbf55255997'), {'thread_id': '4', 'langgraph_step': 1, 'langgraph_node': 'chatbot', 'langgraph_triggers': ['start:chatbot'], 'langgraph_path': ('__pregel_pull', 'chatbot'), 'langgraph_checkpoint_ns': 'chatbot:ecabe036-7295-522c-495c-54790fc26824', 'checkpoint_ns': 'chatbot:ecabe036-7295-522c-495c-54790fc26824', 'ls_provider': 'openai', 'ls_model_name': 'gpt-4o-mini', 'ls_model_type': 'chat', 'ls_temperature': None})\n",
      "(AIMessageChunk(content=' can', additional_kwargs={}, response_metadata={}, id='run-6b71448d-8da0-4513-9301-bcbf55255997'), {'thread_id': '4', 'langgraph_step': 1, 'langgraph_node': 'chatbot', 'langgraph_triggers': ['start:chatbot'], 'langgraph_path': ('__pregel_pull', 'chatbot'), 'langgraph_checkpoint_ns': 'chatbot:ecabe036-7295-522c-495c-54790fc26824', 'checkpoint_ns': 'chatbot:ecabe036-7295-522c-495c-54790fc26824', 'ls_provider': 'openai', 'ls_model_name': 'gpt-4o-mini', 'ls_model_type': 'chat', 'ls_temperature': None})\n",
      "(AIMessageChunk(content=' help', additional_kwargs={}, response_metadata={}, id='run-6b71448d-8da0-4513-9301-bcbf55255997'), {'thread_id': '4', 'langgraph_step': 1, 'langgraph_node': 'chatbot', 'langgraph_triggers': ['start:chatbot'], 'langgraph_path': ('__pregel_pull', 'chatbot'), 'langgraph_checkpoint_ns': 'chatbot:ecabe036-7295-522c-495c-54790fc26824', 'checkpoint_ns': 'chatbot:ecabe036-7295-522c-495c-54790fc26824', 'ls_provider': 'openai', 'ls_model_name': 'gpt-4o-mini', 'ls_model_type': 'chat', 'ls_temperature': None})\n",
      "(AIMessageChunk(content=' with', additional_kwargs={}, response_metadata={}, id='run-6b71448d-8da0-4513-9301-bcbf55255997'), {'thread_id': '4', 'langgraph_step': 1, 'langgraph_node': 'chatbot', 'langgraph_triggers': ['start:chatbot'], 'langgraph_path': ('__pregel_pull', 'chatbot'), 'langgraph_checkpoint_ns': 'chatbot:ecabe036-7295-522c-495c-54790fc26824', 'checkpoint_ns': 'chatbot:ecabe036-7295-522c-495c-54790fc26824', 'ls_provider': 'openai', 'ls_model_name': 'gpt-4o-mini', 'ls_model_type': 'chat', 'ls_temperature': None})\n",
      "(AIMessageChunk(content=' that', additional_kwargs={}, response_metadata={}, id='run-6b71448d-8da0-4513-9301-bcbf55255997'), {'thread_id': '4', 'langgraph_step': 1, 'langgraph_node': 'chatbot', 'langgraph_triggers': ['start:chatbot'], 'langgraph_path': ('__pregel_pull', 'chatbot'), 'langgraph_checkpoint_ns': 'chatbot:ecabe036-7295-522c-495c-54790fc26824', 'checkpoint_ns': 'chatbot:ecabe036-7295-522c-495c-54790fc26824', 'ls_provider': 'openai', 'ls_model_name': 'gpt-4o-mini', 'ls_model_type': 'chat', 'ls_temperature': None})\n",
      "(AIMessageChunk(content='!', additional_kwargs={}, response_metadata={}, id='run-6b71448d-8da0-4513-9301-bcbf55255997'), {'thread_id': '4', 'langgraph_step': 1, 'langgraph_node': 'chatbot', 'langgraph_triggers': ['start:chatbot'], 'langgraph_path': ('__pregel_pull', 'chatbot'), 'langgraph_checkpoint_ns': 'chatbot:ecabe036-7295-522c-495c-54790fc26824', 'checkpoint_ns': 'chatbot:ecabe036-7295-522c-495c-54790fc26824', 'ls_provider': 'openai', 'ls_model_name': 'gpt-4o-mini', 'ls_model_type': 'chat', 'ls_temperature': None})\n",
      "(AIMessageChunk(content=' What', additional_kwargs={}, response_metadata={}, id='run-6b71448d-8da0-4513-9301-bcbf55255997'), {'thread_id': '4', 'langgraph_step': 1, 'langgraph_node': 'chatbot', 'langgraph_triggers': ['start:chatbot'], 'langgraph_path': ('__pregel_pull', 'chatbot'), 'langgraph_checkpoint_ns': 'chatbot:ecabe036-7295-522c-495c-54790fc26824', 'checkpoint_ns': 'chatbot:ecabe036-7295-522c-495c-54790fc26824', 'ls_provider': 'openai', 'ls_model_name': 'gpt-4o-mini', 'ls_model_type': 'chat', 'ls_temperature': None})\n",
      "(AIMessageChunk(content=' specific', additional_kwargs={}, response_metadata={}, id='run-6b71448d-8da0-4513-9301-bcbf55255997'), {'thread_id': '4', 'langgraph_step': 1, 'langgraph_node': 'chatbot', 'langgraph_triggers': ['start:chatbot'], 'langgraph_path': ('__pregel_pull', 'chatbot'), 'langgraph_checkpoint_ns': 'chatbot:ecabe036-7295-522c-495c-54790fc26824', 'checkpoint_ns': 'chatbot:ecabe036-7295-522c-495c-54790fc26824', 'ls_provider': 'openai', 'ls_model_name': 'gpt-4o-mini', 'ls_model_type': 'chat', 'ls_temperature': None})\n",
      "(AIMessageChunk(content=' issue', additional_kwargs={}, response_metadata={}, id='run-6b71448d-8da0-4513-9301-bcbf55255997'), {'thread_id': '4', 'langgraph_step': 1, 'langgraph_node': 'chatbot', 'langgraph_triggers': ['start:chatbot'], 'langgraph_path': ('__pregel_pull', 'chatbot'), 'langgraph_checkpoint_ns': 'chatbot:ecabe036-7295-522c-495c-54790fc26824', 'checkpoint_ns': 'chatbot:ecabe036-7295-522c-495c-54790fc26824', 'ls_provider': 'openai', 'ls_model_name': 'gpt-4o-mini', 'ls_model_type': 'chat', 'ls_temperature': None})\n",
      "(AIMessageChunk(content=' are', additional_kwargs={}, response_metadata={}, id='run-6b71448d-8da0-4513-9301-bcbf55255997'), {'thread_id': '4', 'langgraph_step': 1, 'langgraph_node': 'chatbot', 'langgraph_triggers': ['start:chatbot'], 'langgraph_path': ('__pregel_pull', 'chatbot'), 'langgraph_checkpoint_ns': 'chatbot:ecabe036-7295-522c-495c-54790fc26824', 'checkpoint_ns': 'chatbot:ecabe036-7295-522c-495c-54790fc26824', 'ls_provider': 'openai', 'ls_model_name': 'gpt-4o-mini', 'ls_model_type': 'chat', 'ls_temperature': None})\n",
      "(AIMessageChunk(content=' you', additional_kwargs={}, response_metadata={}, id='run-6b71448d-8da0-4513-9301-bcbf55255997'), {'thread_id': '4', 'langgraph_step': 1, 'langgraph_node': 'chatbot', 'langgraph_triggers': ['start:chatbot'], 'langgraph_path': ('__pregel_pull', 'chatbot'), 'langgraph_checkpoint_ns': 'chatbot:ecabe036-7295-522c-495c-54790fc26824', 'checkpoint_ns': 'chatbot:ecabe036-7295-522c-495c-54790fc26824', 'ls_provider': 'openai', 'ls_model_name': 'gpt-4o-mini', 'ls_model_type': 'chat', 'ls_temperature': None})\n",
      "(AIMessageChunk(content=' facing', additional_kwargs={}, response_metadata={}, id='run-6b71448d-8da0-4513-9301-bcbf55255997'), {'thread_id': '4', 'langgraph_step': 1, 'langgraph_node': 'chatbot', 'langgraph_triggers': ['start:chatbot'], 'langgraph_path': ('__pregel_pull', 'chatbot'), 'langgraph_checkpoint_ns': 'chatbot:ecabe036-7295-522c-495c-54790fc26824', 'checkpoint_ns': 'chatbot:ecabe036-7295-522c-495c-54790fc26824', 'ls_provider': 'openai', 'ls_model_name': 'gpt-4o-mini', 'ls_model_type': 'chat', 'ls_temperature': None})\n",
      "(AIMessageChunk(content=' with', additional_kwargs={}, response_metadata={}, id='run-6b71448d-8da0-4513-9301-bcbf55255997'), {'thread_id': '4', 'langgraph_step': 1, 'langgraph_node': 'chatbot', 'langgraph_triggers': ['start:chatbot'], 'langgraph_path': ('__pregel_pull', 'chatbot'), 'langgraph_checkpoint_ns': 'chatbot:ecabe036-7295-522c-495c-54790fc26824', 'checkpoint_ns': 'chatbot:ecabe036-7295-522c-495c-54790fc26824', 'ls_provider': 'openai', 'ls_model_name': 'gpt-4o-mini', 'ls_model_type': 'chat', 'ls_temperature': None})\n",
      "(AIMessageChunk(content=' handling', additional_kwargs={}, response_metadata={}, id='run-6b71448d-8da0-4513-9301-bcbf55255997'), {'thread_id': '4', 'langgraph_step': 1, 'langgraph_node': 'chatbot', 'langgraph_triggers': ['start:chatbot'], 'langgraph_path': ('__pregel_pull', 'chatbot'), 'langgraph_checkpoint_ns': 'chatbot:ecabe036-7295-522c-495c-54790fc26824', 'checkpoint_ns': 'chatbot:ecabe036-7295-522c-495c-54790fc26824', 'ls_provider': 'openai', 'ls_model_name': 'gpt-4o-mini', 'ls_model_type': 'chat', 'ls_temperature': None})\n",
      "(AIMessageChunk(content=' API', additional_kwargs={}, response_metadata={}, id='run-6b71448d-8da0-4513-9301-bcbf55255997'), {'thread_id': '4', 'langgraph_step': 1, 'langgraph_node': 'chatbot', 'langgraph_triggers': ['start:chatbot'], 'langgraph_path': ('__pregel_pull', 'chatbot'), 'langgraph_checkpoint_ns': 'chatbot:ecabe036-7295-522c-495c-54790fc26824', 'checkpoint_ns': 'chatbot:ecabe036-7295-522c-495c-54790fc26824', 'ls_provider': 'openai', 'ls_model_name': 'gpt-4o-mini', 'ls_model_type': 'chat', 'ls_temperature': None})\n",
      "(AIMessageChunk(content=' responses', additional_kwargs={}, response_metadata={}, id='run-6b71448d-8da0-4513-9301-bcbf55255997'), {'thread_id': '4', 'langgraph_step': 1, 'langgraph_node': 'chatbot', 'langgraph_triggers': ['start:chatbot'], 'langgraph_path': ('__pregel_pull', 'chatbot'), 'langgraph_checkpoint_ns': 'chatbot:ecabe036-7295-522c-495c-54790fc26824', 'checkpoint_ns': 'chatbot:ecabe036-7295-522c-495c-54790fc26824', 'ls_provider': 'openai', 'ls_model_name': 'gpt-4o-mini', 'ls_model_type': 'chat', 'ls_temperature': None})\n",
      "(AIMessageChunk(content=' in', additional_kwargs={}, response_metadata={}, id='run-6b71448d-8da0-4513-9301-bcbf55255997'), {'thread_id': '4', 'langgraph_step': 1, 'langgraph_node': 'chatbot', 'langgraph_triggers': ['start:chatbot'], 'langgraph_path': ('__pregel_pull', 'chatbot'), 'langgraph_checkpoint_ns': 'chatbot:ecabe036-7295-522c-495c-54790fc26824', 'checkpoint_ns': 'chatbot:ecabe036-7295-522c-495c-54790fc26824', 'ls_provider': 'openai', 'ls_model_name': 'gpt-4o-mini', 'ls_model_type': 'chat', 'ls_temperature': None})\n",
      "(AIMessageChunk(content=' your', additional_kwargs={}, response_metadata={}, id='run-6b71448d-8da0-4513-9301-bcbf55255997'), {'thread_id': '4', 'langgraph_step': 1, 'langgraph_node': 'chatbot', 'langgraph_triggers': ['start:chatbot'], 'langgraph_path': ('__pregel_pull', 'chatbot'), 'langgraph_checkpoint_ns': 'chatbot:ecabe036-7295-522c-495c-54790fc26824', 'checkpoint_ns': 'chatbot:ecabe036-7295-522c-495c-54790fc26824', 'ls_provider': 'openai', 'ls_model_name': 'gpt-4o-mini', 'ls_model_type': 'chat', 'ls_temperature': None})\n",
      "(AIMessageChunk(content=' Python', additional_kwargs={}, response_metadata={}, id='run-6b71448d-8da0-4513-9301-bcbf55255997'), {'thread_id': '4', 'langgraph_step': 1, 'langgraph_node': 'chatbot', 'langgraph_triggers': ['start:chatbot'], 'langgraph_path': ('__pregel_pull', 'chatbot'), 'langgraph_checkpoint_ns': 'chatbot:ecabe036-7295-522c-495c-54790fc26824', 'checkpoint_ns': 'chatbot:ecabe036-7295-522c-495c-54790fc26824', 'ls_provider': 'openai', 'ls_model_name': 'gpt-4o-mini', 'ls_model_type': 'chat', 'ls_temperature': None})\n",
      "(AIMessageChunk(content=' project', additional_kwargs={}, response_metadata={}, id='run-6b71448d-8da0-4513-9301-bcbf55255997'), {'thread_id': '4', 'langgraph_step': 1, 'langgraph_node': 'chatbot', 'langgraph_triggers': ['start:chatbot'], 'langgraph_path': ('__pregel_pull', 'chatbot'), 'langgraph_checkpoint_ns': 'chatbot:ecabe036-7295-522c-495c-54790fc26824', 'checkpoint_ns': 'chatbot:ecabe036-7295-522c-495c-54790fc26824', 'ls_provider': 'openai', 'ls_model_name': 'gpt-4o-mini', 'ls_model_type': 'chat', 'ls_temperature': None})\n",
      "(AIMessageChunk(content='?', additional_kwargs={}, response_metadata={}, id='run-6b71448d-8da0-4513-9301-bcbf55255997'), {'thread_id': '4', 'langgraph_step': 1, 'langgraph_node': 'chatbot', 'langgraph_triggers': ['start:chatbot'], 'langgraph_path': ('__pregel_pull', 'chatbot'), 'langgraph_checkpoint_ns': 'chatbot:ecabe036-7295-522c-495c-54790fc26824', 'checkpoint_ns': 'chatbot:ecabe036-7295-522c-495c-54790fc26824', 'ls_provider': 'openai', 'ls_model_name': 'gpt-4o-mini', 'ls_model_type': 'chat', 'ls_temperature': None})\n",
      "(AIMessageChunk(content=' Are', additional_kwargs={}, response_metadata={}, id='run-6b71448d-8da0-4513-9301-bcbf55255997'), {'thread_id': '4', 'langgraph_step': 1, 'langgraph_node': 'chatbot', 'langgraph_triggers': ['start:chatbot'], 'langgraph_path': ('__pregel_pull', 'chatbot'), 'langgraph_checkpoint_ns': 'chatbot:ecabe036-7295-522c-495c-54790fc26824', 'checkpoint_ns': 'chatbot:ecabe036-7295-522c-495c-54790fc26824', 'ls_provider': 'openai', 'ls_model_name': 'gpt-4o-mini', 'ls_model_type': 'chat', 'ls_temperature': None})\n",
      "(AIMessageChunk(content=' you', additional_kwargs={}, response_metadata={}, id='run-6b71448d-8da0-4513-9301-bcbf55255997'), {'thread_id': '4', 'langgraph_step': 1, 'langgraph_node': 'chatbot', 'langgraph_triggers': ['start:chatbot'], 'langgraph_path': ('__pregel_pull', 'chatbot'), 'langgraph_checkpoint_ns': 'chatbot:ecabe036-7295-522c-495c-54790fc26824', 'checkpoint_ns': 'chatbot:ecabe036-7295-522c-495c-54790fc26824', 'ls_provider': 'openai', 'ls_model_name': 'gpt-4o-mini', 'ls_model_type': 'chat', 'ls_temperature': None})\n",
      "(AIMessageChunk(content=' having', additional_kwargs={}, response_metadata={}, id='run-6b71448d-8da0-4513-9301-bcbf55255997'), {'thread_id': '4', 'langgraph_step': 1, 'langgraph_node': 'chatbot', 'langgraph_triggers': ['start:chatbot'], 'langgraph_path': ('__pregel_pull', 'chatbot'), 'langgraph_checkpoint_ns': 'chatbot:ecabe036-7295-522c-495c-54790fc26824', 'checkpoint_ns': 'chatbot:ecabe036-7295-522c-495c-54790fc26824', 'ls_provider': 'openai', 'ls_model_name': 'gpt-4o-mini', 'ls_model_type': 'chat', 'ls_temperature': None})\n",
      "(AIMessageChunk(content=' trouble', additional_kwargs={}, response_metadata={}, id='run-6b71448d-8da0-4513-9301-bcbf55255997'), {'thread_id': '4', 'langgraph_step': 1, 'langgraph_node': 'chatbot', 'langgraph_triggers': ['start:chatbot'], 'langgraph_path': ('__pregel_pull', 'chatbot'), 'langgraph_checkpoint_ns': 'chatbot:ecabe036-7295-522c-495c-54790fc26824', 'checkpoint_ns': 'chatbot:ecabe036-7295-522c-495c-54790fc26824', 'ls_provider': 'openai', 'ls_model_name': 'gpt-4o-mini', 'ls_model_type': 'chat', 'ls_temperature': None})\n",
      "(AIMessageChunk(content=' with', additional_kwargs={}, response_metadata={}, id='run-6b71448d-8da0-4513-9301-bcbf55255997'), {'thread_id': '4', 'langgraph_step': 1, 'langgraph_node': 'chatbot', 'langgraph_triggers': ['start:chatbot'], 'langgraph_path': ('__pregel_pull', 'chatbot'), 'langgraph_checkpoint_ns': 'chatbot:ecabe036-7295-522c-495c-54790fc26824', 'checkpoint_ns': 'chatbot:ecabe036-7295-522c-495c-54790fc26824', 'ls_provider': 'openai', 'ls_model_name': 'gpt-4o-mini', 'ls_model_type': 'chat', 'ls_temperature': None})\n",
      "(AIMessageChunk(content=' requests', additional_kwargs={}, response_metadata={}, id='run-6b71448d-8da0-4513-9301-bcbf55255997'), {'thread_id': '4', 'langgraph_step': 1, 'langgraph_node': 'chatbot', 'langgraph_triggers': ['start:chatbot'], 'langgraph_path': ('__pregel_pull', 'chatbot'), 'langgraph_checkpoint_ns': 'chatbot:ecabe036-7295-522c-495c-54790fc26824', 'checkpoint_ns': 'chatbot:ecabe036-7295-522c-495c-54790fc26824', 'ls_provider': 'openai', 'ls_model_name': 'gpt-4o-mini', 'ls_model_type': 'chat', 'ls_temperature': None})\n",
      "(AIMessageChunk(content=',', additional_kwargs={}, response_metadata={}, id='run-6b71448d-8da0-4513-9301-bcbf55255997'), {'thread_id': '4', 'langgraph_step': 1, 'langgraph_node': 'chatbot', 'langgraph_triggers': ['start:chatbot'], 'langgraph_path': ('__pregel_pull', 'chatbot'), 'langgraph_checkpoint_ns': 'chatbot:ecabe036-7295-522c-495c-54790fc26824', 'checkpoint_ns': 'chatbot:ecabe036-7295-522c-495c-54790fc26824', 'ls_provider': 'openai', 'ls_model_name': 'gpt-4o-mini', 'ls_model_type': 'chat', 'ls_temperature': None})\n",
      "(AIMessageChunk(content=' parsing', additional_kwargs={}, response_metadata={}, id='run-6b71448d-8da0-4513-9301-bcbf55255997'), {'thread_id': '4', 'langgraph_step': 1, 'langgraph_node': 'chatbot', 'langgraph_triggers': ['start:chatbot'], 'langgraph_path': ('__pregel_pull', 'chatbot'), 'langgraph_checkpoint_ns': 'chatbot:ecabe036-7295-522c-495c-54790fc26824', 'checkpoint_ns': 'chatbot:ecabe036-7295-522c-495c-54790fc26824', 'ls_provider': 'openai', 'ls_model_name': 'gpt-4o-mini', 'ls_model_type': 'chat', 'ls_temperature': None})\n",
      "(AIMessageChunk(content=' the', additional_kwargs={}, response_metadata={}, id='run-6b71448d-8da0-4513-9301-bcbf55255997'), {'thread_id': '4', 'langgraph_step': 1, 'langgraph_node': 'chatbot', 'langgraph_triggers': ['start:chatbot'], 'langgraph_path': ('__pregel_pull', 'chatbot'), 'langgraph_checkpoint_ns': 'chatbot:ecabe036-7295-522c-495c-54790fc26824', 'checkpoint_ns': 'chatbot:ecabe036-7295-522c-495c-54790fc26824', 'ls_provider': 'openai', 'ls_model_name': 'gpt-4o-mini', 'ls_model_type': 'chat', 'ls_temperature': None})\n",
      "(AIMessageChunk(content=' response', additional_kwargs={}, response_metadata={}, id='run-6b71448d-8da0-4513-9301-bcbf55255997'), {'thread_id': '4', 'langgraph_step': 1, 'langgraph_node': 'chatbot', 'langgraph_triggers': ['start:chatbot'], 'langgraph_path': ('__pregel_pull', 'chatbot'), 'langgraph_checkpoint_ns': 'chatbot:ecabe036-7295-522c-495c-54790fc26824', 'checkpoint_ns': 'chatbot:ecabe036-7295-522c-495c-54790fc26824', 'ls_provider': 'openai', 'ls_model_name': 'gpt-4o-mini', 'ls_model_type': 'chat', 'ls_temperature': None})\n",
      "(AIMessageChunk(content=',', additional_kwargs={}, response_metadata={}, id='run-6b71448d-8da0-4513-9301-bcbf55255997'), {'thread_id': '4', 'langgraph_step': 1, 'langgraph_node': 'chatbot', 'langgraph_triggers': ['start:chatbot'], 'langgraph_path': ('__pregel_pull', 'chatbot'), 'langgraph_checkpoint_ns': 'chatbot:ecabe036-7295-522c-495c-54790fc26824', 'checkpoint_ns': 'chatbot:ecabe036-7295-522c-495c-54790fc26824', 'ls_provider': 'openai', 'ls_model_name': 'gpt-4o-mini', 'ls_model_type': 'chat', 'ls_temperature': None})\n",
      "(AIMessageChunk(content=' or', additional_kwargs={}, response_metadata={}, id='run-6b71448d-8da0-4513-9301-bcbf55255997'), {'thread_id': '4', 'langgraph_step': 1, 'langgraph_node': 'chatbot', 'langgraph_triggers': ['start:chatbot'], 'langgraph_path': ('__pregel_pull', 'chatbot'), 'langgraph_checkpoint_ns': 'chatbot:ecabe036-7295-522c-495c-54790fc26824', 'checkpoint_ns': 'chatbot:ecabe036-7295-522c-495c-54790fc26824', 'ls_provider': 'openai', 'ls_model_name': 'gpt-4o-mini', 'ls_model_type': 'chat', 'ls_temperature': None})\n",
      "(AIMessageChunk(content=' something', additional_kwargs={}, response_metadata={}, id='run-6b71448d-8da0-4513-9301-bcbf55255997'), {'thread_id': '4', 'langgraph_step': 1, 'langgraph_node': 'chatbot', 'langgraph_triggers': ['start:chatbot'], 'langgraph_path': ('__pregel_pull', 'chatbot'), 'langgraph_checkpoint_ns': 'chatbot:ecabe036-7295-522c-495c-54790fc26824', 'checkpoint_ns': 'chatbot:ecabe036-7295-522c-495c-54790fc26824', 'ls_provider': 'openai', 'ls_model_name': 'gpt-4o-mini', 'ls_model_type': 'chat', 'ls_temperature': None})\n",
      "(AIMessageChunk(content=' else', additional_kwargs={}, response_metadata={}, id='run-6b71448d-8da0-4513-9301-bcbf55255997'), {'thread_id': '4', 'langgraph_step': 1, 'langgraph_node': 'chatbot', 'langgraph_triggers': ['start:chatbot'], 'langgraph_path': ('__pregel_pull', 'chatbot'), 'langgraph_checkpoint_ns': 'chatbot:ecabe036-7295-522c-495c-54790fc26824', 'checkpoint_ns': 'chatbot:ecabe036-7295-522c-495c-54790fc26824', 'ls_provider': 'openai', 'ls_model_name': 'gpt-4o-mini', 'ls_model_type': 'chat', 'ls_temperature': None})\n",
      "(AIMessageChunk(content='?', additional_kwargs={}, response_metadata={}, id='run-6b71448d-8da0-4513-9301-bcbf55255997'), {'thread_id': '4', 'langgraph_step': 1, 'langgraph_node': 'chatbot', 'langgraph_triggers': ['start:chatbot'], 'langgraph_path': ('__pregel_pull', 'chatbot'), 'langgraph_checkpoint_ns': 'chatbot:ecabe036-7295-522c-495c-54790fc26824', 'checkpoint_ns': 'chatbot:ecabe036-7295-522c-495c-54790fc26824', 'ls_provider': 'openai', 'ls_model_name': 'gpt-4o-mini', 'ls_model_type': 'chat', 'ls_temperature': None})\n",
      "(AIMessageChunk(content='', additional_kwargs={}, response_metadata={'finish_reason': 'stop', 'model_name': 'gpt-4o-mini-2024-07-18', 'system_fingerprint': 'fp_72ed7ab54c'}, id='run-6b71448d-8da0-4513-9301-bcbf55255997'), {'thread_id': '4', 'langgraph_step': 1, 'langgraph_node': 'chatbot', 'langgraph_triggers': ['start:chatbot'], 'langgraph_path': ('__pregel_pull', 'chatbot'), 'langgraph_checkpoint_ns': 'chatbot:ecabe036-7295-522c-495c-54790fc26824', 'checkpoint_ns': 'chatbot:ecabe036-7295-522c-495c-54790fc26824', 'ls_provider': 'openai', 'ls_model_name': 'gpt-4o-mini', 'ls_model_type': 'chat', 'ls_temperature': None})\n"
     ]
    }
   ],
   "source": [
    "config = {\"configurable\": {\"thread_id\": \"4\"}}\n",
    "\n",
    "user_input = HumanMessage(content=\"Hi, I’m working on a Python project, and I’m stuck with handling API responses.\")\n",
    "for event in graph.stream({\"messages\": [user_input]}, config, stream_mode=\"messages\"):\n",
    "    print(event)\n",
    "\n",
    "# so we have a message with content and metadata"
   ]
  },
  {
   "cell_type": "code",
   "execution_count": 69,
   "metadata": {},
   "outputs": [
    {
     "name": "stdout",
     "output_type": "stream",
     "text": [
      "Parsing JSON responses can indeed be tricky if the structure varies. Here are some general tips to handle this:\n",
      "\n",
      "1. **Use `try-except` Blocks**: This can help catch any exceptions that occur when accessing nested keys that might not exist.\n",
      "\n",
      "   ```python\n",
      "   import requests\n",
      "\n",
      "   response = requests.get('your_api_endpoint')\n",
      "   data = response.json()\n",
      "\n",
      "   try:\n",
      "       value = data['expected_key']\n",
      "   except KeyError:\n",
      "       print(\"Key not found, handle it appropriately.\")\n",
      "   ```\n",
      "\n",
      "2. **Check for Key Existence**: Before accessing a nested key, check if it exists using `dict.get()` or the `in` keyword.\n",
      "\n",
      "   ```python\n",
      "   if 'expected_key' in data:\n",
      "       value = data['expected_key']\n",
      "   else:\n",
      "       print(\"Key not found\")\n",
      "   ```\n",
      "\n",
      "3. **Use Default Values**: The `get()` method allows you to set a default value if the key does not exist.\n",
      "\n",
      "   ```python\n",
      "   value = data.get('expected_key', 'default_value')\n",
      "   ```\n",
      "\n",
      "4. **Inspect the Structure**: Print the entire response or part of it to understand its structure.\n",
      "\n",
      "   ```python\n",
      "   print(data)  # or print(data.keys()) for top-level keys\n",
      "   ```\n",
      "\n",
      "5. **Nested Structures**: If you're working with nested dictionaries or lists, use additional checks for each level.\n",
      "\n",
      "Here’s a more complex example handling a nested structure:\n",
      "\n",
      "```python\n",
      "response = requests.get('your_api_endpoint')\n",
      "data = response.json()\n",
      "\n",
      "# Assuming the response is {\"user\": {\"id\": 1, \"info\": {\"name\": \"John\"}}}\n",
      "user_info = data.get('user', {})\n",
      "user_id = user_info.get('id', None)\n",
      "user_name = user_info.get('info', {}).get('name', 'Unknown')\n",
      "\n",
      "print(f\"User ID: {user_id}, Name: {user_name}\")\n",
      "```\n",
      "\n",
      "If you need help with a specific JSON structure or error, feel free to share that!"
     ]
    }
   ],
   "source": [
    "config = {\"configurable\": {\"thread_id\": \"4\"}}\n",
    "\n",
    "user_input = HumanMessage(content=\"Ahh, yeah right! So I’m mostly struggling with parsing JSON responses. Sometimes the structure isn’t what I expect, and it breaks my code.\")\n",
    "for msg, metadata in graph.stream({\"messages\": [user_input]}, config, stream_mode=\"messages\"):\n",
    "    if (metadata['langgraph_node'] == 'chatbot'):\n",
    "        print(msg.content, end=\"\")\n",
    "\n",
    "# same style of outputing data as in chat app (a token by token)"
   ]
  },
  {
   "cell_type": "markdown",
   "metadata": {},
   "source": [
    "## Streaming with LangGraph API"
   ]
  },
  {
   "cell_type": "code",
   "execution_count": null,
   "metadata": {},
   "outputs": [],
   "source": [
    "from langgraph_sdk import get_client\n",
    "\n",
    "URL = \"http://localhost:61693\"\n",
    "client = get_client(url=URL)\n",
    "\n",
    "assistants = await client.assistants.search()\n",
    "assistants"
   ]
  },
  {
   "cell_type": "code",
   "execution_count": null,
   "metadata": {},
   "outputs": [],
   "source": [
    "thread = await client.threads.create()\n",
    "\n",
    "input_message = HumanMessage(content=\"Hi, I’m working on a Python project, and I’m stuck with handling API responses.\")\n",
    "\n",
    "async for part in client.runs.stream(\n",
    "        thread[\"thread_id\"], \n",
    "        assistant_id=\"8a4ac7a4-50eb-5206-98cc-4a72345cb1f7\", \n",
    "        input={\"messages\": [input_message]}, \n",
    "        stream_mode=\"messages\"):\n",
    "    print(part)\n",
    "\n",
    "# check event types"
   ]
  },
  {
   "cell_type": "code",
   "execution_count": null,
   "metadata": {},
   "outputs": [],
   "source": [
    "from langchain_core.messages import convert_to_messages\n",
    "\n",
    "thread = await client.threads.create()\n",
    "input_message = HumanMessage(content=\"Should I invest in Tesla stocks?\")\n",
    "\n",
    "async for event in client.runs.stream(\n",
    "            thread[\"thread_id\"], \n",
    "            assistant_id=\"b7480eb0-6390-53a5-9bc4-29bf27cbd1c4\", \n",
    "            input={\"messages\": [input_message]}, \n",
    "            stream_mode=\"values\"):\n",
    "    messages = event.data.get('messages',None)\n",
    "    if messages:\n",
    "        print(convert_to_messages(messages)[-1])\n",
    "\n",
    "# display content only with convert_to_messages util"
   ]
  }
 ],
 "metadata": {
  "kernelspec": {
   "display_name": "venv",
   "language": "python",
   "name": "python3"
  },
  "language_info": {
   "codemirror_mode": {
    "name": "ipython",
    "version": 3
   },
   "file_extension": ".py",
   "mimetype": "text/x-python",
   "name": "python",
   "nbconvert_exporter": "python",
   "pygments_lexer": "ipython3",
   "version": "3.13.1"
  }
 },
 "nbformat": 4,
 "nbformat_minor": 2
}
